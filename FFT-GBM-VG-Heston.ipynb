{
 "cells": [
  {
   "cell_type": "code",
   "execution_count": 3,
   "id": "b846b4fa-a173-4be2-a905-acdf3eaf61fd",
   "metadata": {},
   "outputs": [],
   "source": [
    "import warnings\n",
    "warnings.filterwarnings(\"ignore\")\n",
    "\n",
    "import numpy as np\n",
    "import cmath\n",
    "import math\n",
    "import time"
   ]
  },
  {
   "cell_type": "code",
   "execution_count": 63,
   "id": "27f97b2f-cadf-498e-ba18-c3e30ef238cf",
   "metadata": {
    "tags": []
   },
   "outputs": [],
   "source": [
    "S0 = 100\n",
    "K = 100\n",
    "T = 1\n",
    "r = 0.05\n",
    "q = 0.01\n",
    "k = np.log(K)\n",
    "\n",
    "#GBM Parameters\n",
    "sigmaGBM = 0.30\n",
    "\n",
    "#Variance Gamma Parameters\n",
    "sigmaVG = 0.30\n",
    "thetaVG = 0.02\n",
    "nu = 0.1\n",
    "\n",
    "#Heston parameters\n",
    "V0 = 0.04\n",
    "thetaH = 2.0\n",
    "sigmaH = 0.05\n",
    "kappa = 0.3\n",
    "rho = -0.7\n",
    "\n"
   ]
  },
  {
   "cell_type": "code",
   "execution_count": 64,
   "id": "858d7d7e-65f7-4a75-8f27-11646265ca22",
   "metadata": {
    "tags": []
   },
   "outputs": [],
   "source": [
    "class GeometricBrownianMotion:\n",
    "\n",
    "    sigma_  = 0.0\n",
    "\n",
    "    def __init__(self,sigma):\n",
    "        self.sigma_ = sigma\n",
    "\n",
    "    def testInit(self):\n",
    "        print(\"This is my GBM\")\n",
    "    \n",
    "    def CharacteristicFunc(self,u,S0,T,r,q):\n",
    "        phi = np.exp(1j*(np.log(S0)+(r-q-self.sigma_**2/2)*T)*u - ((self.sigma_*np.sqrt(T))*u)**2/2)\n",
    "        return phi"
   ]
  },
  {
   "cell_type": "code",
   "execution_count": 65,
   "id": "7c0b306e-b8c8-4ccd-8874-801a566b39cd",
   "metadata": {
    "tags": []
   },
   "outputs": [],
   "source": [
    "GBM = GeometricBrownianMotion(sigmaGBM)"
   ]
  },
  {
   "cell_type": "code",
   "execution_count": 66,
   "id": "751dd674-586a-4a64-9f3c-49e8d8990440",
   "metadata": {
    "tags": []
   },
   "outputs": [
    {
     "name": "stdout",
     "output_type": "stream",
     "text": [
      "This is my GBM\n"
     ]
    }
   ],
   "source": [
    "GBM.testInit()"
   ]
  },
  {
   "cell_type": "code",
   "execution_count": 67,
   "id": "2a34c21a-6053-41c5-92a2-4de1ec8314a7",
   "metadata": {
    "tags": []
   },
   "outputs": [],
   "source": [
    "class VarianceGamma:\n",
    "\n",
    "    sigma_ = 0.0\n",
    "    theta_ = 0.0\n",
    "    nu_ = 0.0\n",
    "\n",
    "    def __init__(self,sigma,nu,theta):\n",
    "        self.sigma_ = sigma\n",
    "        self.theta_ = theta\n",
    "        self.nu_ = nu\n",
    "       \n",
    "\n",
    "    def testInit(self):\n",
    "        print(\"This is my VG\")\n",
    "    \n",
    "    def CharacteristicFunc(self,u,S0,T,r,q):\n",
    "            \n",
    "            if (self.nu_ == 0):\n",
    "                #mu = np.log(S0) + (r-q - self.theta_ -0.5*self.sigma_**2)*T\n",
    "                phi  = np.exp(1j*u*(np.log(S0) + (r-q - self.theta_ -0.5*self.sigma_**2)*T)) * np.exp((1j*self.theta_*u-0.5*self.sigma_**2*u**2)*T)\n",
    "            else:\n",
    "                mu  = np.log(S0) + (r-q + np.log(1-self.theta_*self.nu_-0.5*self.sigma_**2*self.nu_)/self.nu_)*T\n",
    "                phi = np.exp(1j*u*mu)*((1-1j*self.nu_*self.theta_*u+0.5*self.nu_*self.sigma_**2*u**2)**(-T/self.nu_))\n",
    "\n",
    "            return phi"
   ]
  },
  {
   "cell_type": "code",
   "execution_count": 68,
   "id": "e7b0b9ad-01b4-44d3-969a-edec8767b7c0",
   "metadata": {
    "tags": []
   },
   "outputs": [],
   "source": [
    "VG = VarianceGamma(sigmaVG,nu,thetaVG)"
   ]
  },
  {
   "cell_type": "code",
   "execution_count": 69,
   "id": "38e019cf-9318-4e8f-ac85-83db2d7f3d88",
   "metadata": {
    "tags": []
   },
   "outputs": [
    {
     "name": "stdout",
     "output_type": "stream",
     "text": [
      "This is my VG\n"
     ]
    }
   ],
   "source": [
    "VG.testInit()"
   ]
  },
  {
   "cell_type": "code",
   "execution_count": 70,
   "id": "fe920248-1fe3-48a7-89dc-d739aca0bf74",
   "metadata": {
    "tags": []
   },
   "outputs": [],
   "source": [
    "class Heston:\n",
    "\n",
    "    V0_ = 0.0\n",
    "    theta_ = 0.0\n",
    "    sigma_ = 0.0\n",
    "    kappa_ = 0.0\n",
    "    rho_ = 0.0\n",
    "\n",
    "    def __init__(self,V0, kappa,theta,sigma,rho):\n",
    "        self.V0_ = V0\n",
    "        self.theta_ = theta\n",
    "        self.sigma_ = sigma\n",
    "        self.kappa_ = kappa\n",
    "        self.rho_ = rho\n",
    "\n",
    "    def testInit(self):\n",
    "        print(\"This is my Heston\")\n",
    "\n",
    "    def CharacteristicFunc(self,u,S0,T,r,q):\n",
    "\n",
    "        temp = (self.kappa_-1j*self.rho_*self.sigma_*u)\n",
    "        g = np.sqrt((self.sigma_**2)*(u**2+1j*u)+temp**2)\n",
    "        \n",
    "        pow1 = 2*self.kappa_*self.theta_/(self.sigma_**2)\n",
    "\n",
    "        numer1 = (self.kappa_*self.theta_*T*temp)/(self.sigma_**2) + 1j*u*T*r + 1j*u*math.log(S0)\n",
    "        log_denum1 = pow1 * np.log(np.cosh(g*T/2)+(temp/g)*np.sinh(g*T/2))\n",
    "        temp2 = ((u*u+1j*u)*self.V0_)/(g/np.tanh(g*T/2)+temp)\n",
    "        log_phi = numer1 - log_denum1 - temp2\n",
    "        phi = np.exp(log_phi)\n",
    "        return phi"
   ]
  },
  {
   "cell_type": "code",
   "execution_count": 71,
   "id": "36327cc0-b539-4d7d-8105-2dea60032e60",
   "metadata": {
    "tags": []
   },
   "outputs": [],
   "source": [
    "Heston = Heston(V0,thetaH,sigmaH,kappa,rho)"
   ]
  },
  {
   "cell_type": "code",
   "execution_count": 72,
   "id": "949ce1a5-47cd-47f2-85ac-5a0e43ddf68c",
   "metadata": {
    "tags": []
   },
   "outputs": [
    {
     "name": "stdout",
     "output_type": "stream",
     "text": [
      "This is my Heston\n"
     ]
    }
   ],
   "source": [
    "Heston.testInit()"
   ]
  },
  {
   "cell_type": "code",
   "execution_count": 73,
   "id": "303cddf9-a0fe-47af-acce-b80b74ae9be0",
   "metadata": {
    "tags": []
   },
   "outputs": [],
   "source": [
    "class FFT:\n",
    "\n",
    "    n_ = 0.0\n",
    "    N_ = 0.0\n",
    "    alpha_ = 0.0\n",
    "    eta_ = 0.0\n",
    "\n",
    "    def __init__(self,n,alpha,eta):\n",
    "        self.n_ = n\n",
    "        self.N_ = 2**self.n_\n",
    "        self.alpha_ = alpha\n",
    "        self.eta_ = eta\n",
    "\n",
    "    def runFFT(self,model,S0,K,T,r,q):\n",
    "        \n",
    "         # increment in log strike space\n",
    "        lda = (2*np.pi/self.N_)/self.eta_\n",
    "    \n",
    "        #beta = np.log(S0)-N*lda/2\n",
    "        beta = np.log(K)\n",
    "    \n",
    "         # forming vector x and strikes km for m=1,...,N\n",
    "        X = np.zeros((self.N_))\n",
    "        km = np.zeros((self.N_))\n",
    "         \n",
    "\n",
    "        # discount factor\n",
    "        df = math.exp(-r*T)\n",
    "    \n",
    "        nuJ = np.arange(self.N_)*self.eta_\n",
    "        psi_nuJ = model.CharacteristicFunc(nuJ-(self.alpha_+1)*1j, S0, T,r,q)/((self.alpha_ + 1j*nuJ)*(self.alpha_+1+1j*nuJ))\n",
    "\n",
    "        for j in range(self.N_):  \n",
    "            km[j] = beta+j*lda\n",
    "            if j == 0:\n",
    "                wJ = (self.eta_/2)\n",
    "            else:\n",
    "                wJ = self.eta_\n",
    "            X[j] = np.exp(-1j*beta*nuJ[j])*df*psi_nuJ[j]*wJ\n",
    "\n",
    "        Y = np.fft.fft(X)\n",
    "        cT_km = np.zeros((self.N_))  \n",
    "        \n",
    "        for i in range(self.N_):\n",
    "            multiplier = np.exp(-self.alpha_*km[i])/math.pi\n",
    "            cT_km[i] = multiplier*np.real(Y[i])\n",
    "    \n",
    "        return km, cT_km\n"
   ]
  },
  {
   "cell_type": "code",
   "execution_count": 90,
   "id": "3f14762b-eb99-44b7-a54f-cdc289cbcabf",
   "metadata": {
    "tags": []
   },
   "outputs": [
    {
     "name": "stdout",
     "output_type": "stream",
     "text": [
      "Option price is 10.901860\n",
      "FFT execution time was 0.0114522\n"
     ]
    }
   ],
   "source": [
    "\n",
    "#step size\n",
    "eta = 0.25\n",
    "\n",
    "#damper for the FFT\n",
    "alpha = 1.5\n",
    "\n",
    "n = 8\\\n",
    "\n",
    "fft = FFT(n,alpha,eta)\n",
    "\n",
    "start_time = time.time()\n",
    "\n",
    "km, cT_km = fft.runFFT(Heston,S0,K,T,r,q)\n",
    "\n",
    "cT_k = cT_km[0]\n",
    "\n",
    "elapsed_time = time.time() - start_time\n",
    "    \n",
    "#cT_k = np.interp(np.log(0.5), km, cT_km)\n",
    "print('Option price is %0.6f' % cT_k)\n",
    "\n",
    "#print(\"Option via FFT: for strike %s the option premium is %6.4f\" % (np.exp(k), cT_km[0]))\n",
    "print('FFT execution time was %0.7f' % elapsed_time)"
   ]
  },
  {
   "cell_type": "code",
   "execution_count": null,
   "id": "25e48fbb-223d-4d40-9ba9-3534fa5a19c1",
   "metadata": {},
   "outputs": [],
   "source": []
  }
 ],
 "metadata": {
  "kernelspec": {
   "display_name": "Python 3 (ipykernel)",
   "language": "python",
   "name": "python3"
  },
  "language_info": {
   "codemirror_mode": {
    "name": "ipython",
    "version": 3
   },
   "file_extension": ".py",
   "mimetype": "text/x-python",
   "name": "python",
   "nbconvert_exporter": "python",
   "pygments_lexer": "ipython3",
   "version": "3.11.2"
  }
 },
 "nbformat": 4,
 "nbformat_minor": 5
}
